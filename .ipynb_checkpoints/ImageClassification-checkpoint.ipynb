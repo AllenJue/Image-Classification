{
 "cells": [
  {
   "cell_type": "code",
   "execution_count": 2,
   "metadata": {
    "colab": {
     "base_uri": "https://localhost:8080/"
    },
    "id": "Z_vPsLhXuKQW",
    "outputId": "2b05156f-3d50-4827-db33-47654c5eaf41"
   },
   "outputs": [],
   "source": [
    "# from google.colab import drive\n",
    "# drive.mount('/content/drive', force_remount=True)"
   ]
  },
  {
   "cell_type": "code",
   "execution_count": 3,
   "metadata": {
    "colab": {
     "base_uri": "https://localhost:8080/"
    },
    "id": "RiBjcglxumNw",
    "outputId": "09bb802c-27f5-4128-f585-6924be2875c0"
   },
   "outputs": [],
   "source": [
    "# %cd drive/MyDrive/Colab_Notebooks/Image_Classification/Covid19-dataset"
   ]
  },
  {
   "cell_type": "markdown",
   "metadata": {},
   "source": [
    "# Chest X-Ray Image Classification\n",
    "\n",
    "This project intends to explore different `scikit-learn` models and their accuracy of predicting whether a person's chest x-ray suggests that they are healthy, have Covid-19, or viral pneumonia. Two datasets are used: [training data](https://www.kaggle.com/datasets/artyomkolas/3-kinds-of-pneumonia) and [holdout data](https://www.kaggle.com/datasets/pranavraikokte/covid19-image-dataset).\n",
    "\n",
    "The project explores three different models, SVM, decision trees, and neural nets. "
   ]
  },
  {
   "cell_type": "markdown",
   "metadata": {
    "id": "rrUhr3cs7sz5"
   },
   "source": [
    "## Model: SVM Classifier\n",
    "\n",
    "The first model to explore is the SVM classifier. Characteristics of SVM classifiers include:\n",
    "* **Not** susceptible to the curse of dimensionality\n",
    "* Always possible to find an optimal solution\n",
    "* Data needs to be scaled\n",
    "* Hyperparameters can be tuned with cross-validation"
   ]
  },
  {
   "cell_type": "code",
   "execution_count": 32,
   "metadata": {
    "id": "n1cUdPXr7ooW"
   },
   "outputs": [],
   "source": [
    "import cv2\n",
    "import glob\n",
    "import os\n",
    "import numpy as np\n",
    "from matplotlib import pyplot as plt\n",
    "import random\n",
    "import pickle \n",
    "\n",
    "# SVC model\n",
    "from sklearn.svm import SVC\n",
    "from sklearn.metrics import accuracy_score\n",
    "from sklearn.model_selection import train_test_split\n",
    "from sklearn.pipeline import Pipeline\n",
    "from sklearn.preprocessing import StandardScaler\n",
    "from sklearn.decomposition import PCA\n",
    "from sklearn.model_selection import GridSearchCV\n",
    "from sklearn.model_selection import cross_val_score\n",
    "from sklearn.metrics import confusion_matrix\n",
    "from sklearn.metrics import ConfusionMatrixDisplay\n",
    "from sklearn.metrics import classification_report\n",
    "\n",
    "# Tree Model\n",
    "from sklearn.tree import DecisionTreeClassifier"
   ]
  },
  {
   "cell_type": "markdown",
   "metadata": {},
   "source": [
    "### Step 1: Data Collection\n",
    "\n",
    "The data from the Kaggle dataset is already cleaned, with \"clusters of defective images are removed during the curation process and a refined dataset is obtained which is available for download.\" All that is left to do regarding the data is to collect it and reshape it into a way that can be processed by the SVM classifier.\n",
    "\n",
    "This involves:\n",
    "* Assigning labels\n",
    "* Reading and resizing images \n",
    "* Flattening images \n",
    "\n",
    "It is imperative to resize the images, as processing very large images can be difficult, especially if we're treating each pixel as a feature. Also, flattening the images (2D array) into a 1D array makes it possible to pass into a SVM classifier."
   ]
  },
  {
   "cell_type": "markdown",
   "metadata": {
    "id": "j2GRFmXQ7v29"
   },
   "source": [
    "#### 1A. Assigning labels\n",
    "Function to return a label associated with a given path. If the path does not exist, raise an `exception`"
   ]
  },
  {
   "cell_type": "code",
   "execution_count": 5,
   "metadata": {
    "id": "tBujj53E7y-6"
   },
   "outputs": [],
   "source": [
    "def get_label_from_path(path):\n",
    "  if \"COVID-19\" in path:\n",
    "    return \"Covid\"\n",
    "  elif \"Normal\" in path:\n",
    "    return \"Normal\"\n",
    "  elif \"Pneumonia-Viral\" in path:\n",
    "    return \"Pneumonia-Viral\"\n",
    "  else:\n",
    "    raise Exception(\"Path does not contain a valid feature label: \", path)"
   ]
  },
  {
   "cell_type": "markdown",
   "metadata": {
    "id": "EVmU_kWDr28S"
   },
   "source": [
    "#### 1B. Reading and Resizing Images\n",
    "Function to read images from a folder given a path and resize them"
   ]
  },
  {
   "cell_type": "code",
   "execution_count": 6,
   "metadata": {
    "id": "LU4O1Ti_oHCm"
   },
   "outputs": [],
   "source": [
    "def collect_images(path, total_features, total_labels):\n",
    "  temp_files = []\n",
    "  [temp_files.extend(glob.glob(path + '*.' + e)) for e in ext]\n",
    "  temp_images = [cv2.imread(file) for file in temp_files]\n",
    "  resized_images = []\n",
    "  for image in temp_images:\n",
    "    resized_images.append(cv2.resize(image, (100, 100)))\n",
    "    total_labels.append(get_label_from_path(path))\n",
    "  total_features.extend(resized_images)"
   ]
  },
  {
   "cell_type": "markdown",
   "metadata": {
    "id": "O9SorYbdr-4d"
   },
   "source": [
    "Utilize the `collect_images` and `get_label_from_path` methods to read in images from the **Curated-dataset**.\n",
    "\n",
    "Keep a collection of all the images and their features.\n",
    "\n",
    "Temporarily keep a train and test split (80-20) to model a small classifier later."
   ]
  },
  {
   "cell_type": "code",
   "execution_count": 7,
   "metadata": {
    "id": "ryiNnOD5vN7J"
   },
   "outputs": [],
   "source": [
    "train_paths = [\"Curated-dataset/COVID-19/\", \"Curated-dataset/Normal/\", \"Curated-dataset/Pneumonia-Viral/\"]\n",
    "# test_paths = [\"test/Covid/\", \"test/Normal/\", \"test/Viral_Pneumonia/\"]\n",
    "ext = ['png', 'jpg', 'jpeg']    # Add image formats here\n",
    "all_images = []\n",
    "all_labels = []\n",
    "\n",
    "# Collect all images from Curated-dataset\n",
    "for path in train_paths:\n",
    "  collect_images(path, all_images, all_labels)\n",
    "\n",
    "# After collecting all images, randomize them\n",
    "temp_arr = []\n",
    "for i in range(len(all_images)):\n",
    "  temp_arr.append((all_images[i], all_labels[i]))\n",
    "random.shuffle(temp_arr)\n",
    "for i in range(len(all_images)):\n",
    "  all_images[i] = temp_arr[i][0]\n",
    "  all_labels[i] = temp_arr[i][1]\n",
    "\n",
    "# Temporarily keep a partition of training data and testing data\n",
    "FIFTH_OF_DATA = int(0.2 * len(all_images))\n",
    "train_images = all_images[: 4 * FIFTH_OF_DATA]\n",
    "train_labels = all_labels[: 4 * FIFTH_OF_DATA]\n",
    "test_images = all_images[4 * FIFTH_OF_DATA:]\n",
    "test_labels = all_labels[4 * FIFTH_OF_DATA:]"
   ]
  },
  {
   "cell_type": "markdown",
   "metadata": {},
   "source": [
    "Verify the dimensions of the data"
   ]
  },
  {
   "cell_type": "code",
   "execution_count": 8,
   "metadata": {},
   "outputs": [
    {
     "name": "stdout",
     "output_type": "stream",
     "text": [
      "Training data:  4964 4964\n",
      "Testing data:  1243 1243\n",
      "All data:  6207 6207\n"
     ]
    }
   ],
   "source": [
    "print(\"Training data: \", len(train_images), len(train_labels))\n",
    "print(\"Testing data: \", len(test_images), len(test_labels))\n",
    "print(\"All data: \", len(all_images), len(all_labels))"
   ]
  },
  {
   "cell_type": "markdown",
   "metadata": {
    "id": "eKqsURy8rwqY"
   },
   "source": [
    "Function that prints out the avg dimensions of a set of images."
   ]
  },
  {
   "cell_type": "code",
   "execution_count": 9,
   "metadata": {
    "id": "-sx72kO-o31i"
   },
   "outputs": [],
   "source": [
    "def print_dimensions(images):\n",
    "  average_x = 0\n",
    "  average_y = 0\n",
    "  min_x = 1000000\n",
    "  min_y = 1000000\n",
    "  train_len = len(images)\n",
    "  for image in images:\n",
    "    dimension = image.shape\n",
    "    average_x += dimension[0]\n",
    "    min_x = min(min_x, dimension[0])\n",
    "    if(len(dimension) > 1):\n",
    "      average_y += dimension[1]\n",
    "      min_y = min(min_y, dimension[1])\n",
    "  print(\"Average width: \", average_x / train_len)\n",
    "  print(\"Min width: \", min_x)\n",
    "  if(len(dimension) > 1):\n",
    "    print(\"Average height: \", average_y / train_len)\n",
    "    print(\"Min height: \", min_y, \"\\n\")"
   ]
  },
  {
   "cell_type": "markdown",
   "metadata": {},
   "source": [
    "Ensure that the images have been resized correctly to be *100x100*"
   ]
  },
  {
   "cell_type": "code",
   "execution_count": 10,
   "metadata": {
    "colab": {
     "base_uri": "https://localhost:8080/"
    },
    "id": "10oLXbMv0ivZ",
    "outputId": "9cf93afa-52d3-44cf-ad89-f81157db8db3"
   },
   "outputs": [
    {
     "name": "stdout",
     "output_type": "stream",
     "text": [
      "Train image information: \n",
      "Average width:  100.0\n",
      "Min width:  100\n",
      "Average height:  100.0\n",
      "Min height:  100 \n",
      "\n"
     ]
    }
   ],
   "source": [
    "print(\"Train image information: \")\n",
    "print_dimensions(train_images)"
   ]
  },
  {
   "cell_type": "markdown",
   "metadata": {
    "id": "u4Gk74UUsEdl"
   },
   "source": [
    "Visualize a few of the training images to see what the computer would see. An observation is that the general shapes of things remain intact and are not particularly distorted. Some details may be obfuscated."
   ]
  },
  {
   "cell_type": "code",
   "execution_count": 11,
   "metadata": {
    "colab": {
     "base_uri": "https://localhost:8080/",
     "height": 824
    },
    "id": "H9sMJfiZsI41",
    "outputId": "824ce8f5-ab1f-46cd-ffee-ce8974e95ec9"
   },
   "outputs": [
    {
     "name": "stdout",
     "output_type": "stream",
     "text": [
      "<class 'numpy.ndarray'>\n"
     ]
    },
    {
     "data": {
      "image/png": "[encoded data removed]",
      "text/plain": [
       "<Figure size 640x480 with 1 Axes>"
      ]
     },
     "metadata": {},
     "output_type": "display_data"
    },
    {
     "name": "stdout",
     "output_type": "stream",
     "text": [
      "<class 'numpy.ndarray'>\n"
     ]
    },
    {
     "data": {
      "image/png": "[encoded data removed]",
      "text/plain": [
       "<Figure size 640x480 with 1 Axes>"
      ]
     },
     "metadata": {},
     "output_type": "display_data"
    },
    {
     "name": "stdout",
     "output_type": "stream",
     "text": [
      "<class 'numpy.ndarray'>\n"
     ]
    },
    {
     "data": {
      "image/png": "[encoded data removed]",
      "text/plain": [
       "<Figure size 640x480 with 1 Axes>"
      ]
     },
     "metadata": {},
     "output_type": "display_data"
    }
   ],
   "source": [
    "for i in range(3):\n",
    "  random_img = random.choice(train_images)\n",
    "  print(type(random_img))\n",
    "  plt.imshow(random_img, interpolation='nearest')\n",
    "  plt.show()"
   ]
  },
  {
   "cell_type": "markdown",
   "metadata": {},
   "source": [
    "#### 1C. Flattening Images\n",
    "\n",
    "Create a method to flatten an array of images. Apply that to `train_images`, `test_images`, and `all_images`"
   ]
  },
  {
   "cell_type": "markdown",
   "metadata": {
    "id": "VCr9UOXbyTNb"
   },
   "source": [
    "Function to flatten collection of 2D arrays into 1D arrays"
   ]
  },
  {
   "cell_type": "code",
   "execution_count": 12,
   "metadata": {
    "id": "DnEy3gEuyR_i"
   },
   "outputs": [],
   "source": [
    "def flatten_images(images):\n",
    "  for i in range(len(images)):\n",
    "    images[i] = np.reshape(images[i], -1)"
   ]
  },
  {
   "cell_type": "markdown",
   "metadata": {},
   "source": [
    "### Step 2: Cross-Validation\n",
    "\n",
    "To find the best parameters and verify the process of using an SVM classifier, we will use cross-validation. \n",
    "\n",
    "This involves:\n",
    "* Creating a Pipeline for the data\n",
    "* Running a nested cross-validation loop\n",
    "* Creating a final model\n",
    "\n",
    "We need to create a pipeline to try different ways to scale the data, different ways to project features to lower dimensions, and try different classifiers. The nested cross-validation loop will help verify the accuracy of the classifier and partition the data automatically. Once the process has been deemed valid, we can create a final model."
   ]
  },
  {
   "cell_type": "markdown",
   "metadata": {
    "id": "9AcJKkOD8D1M"
   },
   "source": [
    "#### 2A. Create a Pipeline for the Data\n",
    "\n",
    "Create a StandardScaler object, PCA object, and Pipeline which takes the aforementioned objects. These will be used with a param grid that will try pca `__n_components` from 5-18 and svc `__kernel`'s, `linear`, `rbf`, and `poly`. These will be passed into a `GridSearchCV` object to create the inner-loop of the cross-validation loop with folds = 5. "
   ]
  },
  {
   "cell_type": "code",
   "execution_count": 13,
   "metadata": {
    "id": "6cabBs9ZTO1_"
   },
   "outputs": [],
   "source": [
    "# flatten each collection of images\n",
    "flatten_images(train_images)\n",
    "flatten_images(test_images)\n",
    "flatten_images(all_images)\n",
    "\n",
    "scaler = StandardScaler()\n",
    "pca = PCA()\n",
    "svc_classifier = SVC()\n",
    "svc_pipeline = Pipeline(steps = [('scaler', scaler), \n",
    "                                 ('pca', pca), \n",
    "                                 ('svc', svc_classifier)])\n",
    "\n",
    "svc_param_grid = {\n",
    "    'pca__n_components': list(range(5, 19)),\n",
    "    'svc__kernel': ['linear', 'rbf', 'poly']\n",
    "}"
   ]
  },
  {
   "cell_type": "markdown",
   "metadata": {},
   "source": [
    "#### 2B. Run Nested Cross-Validation Loop\n",
    "\n",
    "Pass the inner_svm, which is scaled, using PCA, and will try various params into a `cross_val_score`, which will produce the results of the outer cross-validation loop with folds = 5. Pass in the entire dataset, as these methods will automatically partition the data. This will take a decent amount of time, as there are 10,000 features per image (100 x 100), and the number of models to train.\n",
    "\n",
    "When it's complete, print the average accuracy."
   ]
  },
  {
   "cell_type": "code",
   "execution_count": 36,
   "metadata": {
    "colab": {
     "base_uri": "https://localhost:8080/"
    },
    "id": "qWVZTcaX1kBd",
    "outputId": "0dfbc9d4-d27c-48d6-9c83-0a2315329d3a"
   },
   "outputs": [
    {
     "name": "stdout",
     "output_type": "stream",
     "text": [
      "Accuracy with holdout:  0.9517296862429606\n",
      "Svc accuracy:  0.9347525046680707\n"
     ]
    }
   ],
   "source": [
    "# Test a singular classifier trained on a single partition\n",
    "svc_classifier.fit(train_images, train_labels)\n",
    "predictions = svc_classifier.predict(test_images)\n",
    "print(\"Accuracy with holdout: \", \n",
    "      accuracy_score(test_labels, predictions))\n",
    "\n",
    "# Create the inner cross-validation loop with a cv = 5\n",
    "inner_svm = GridSearchCV(svc_pipeline, svc_param_grid, cv = 5)\n",
    "# Run outer cross-validation loop with cv = 5\n",
    "fold_accuracies = cross_val_score(inner_svm, \n",
    "                                  all_images, \n",
    "                                  all_labels, \n",
    "                                  cv = 5)\n",
    "print(\"Svc accuracy: \", sum(fold_accuracies) / len(fold_accuracies))"
   ]
  },
  {
   "cell_type": "markdown",
   "metadata": {},
   "source": [
    "#### 2C. Create a Final Model\n",
    "\n",
    "Given that the cross-validation loop had a relatively high accuracy, it is safe to say that the SVM model is appropriate for classifying X-ray images. Fit the inner-loop on all the data, and display the best hpyerparameters and its overall accuracy."
   ]
  },
  {
   "cell_type": "code",
   "execution_count": 37,
   "metadata": {
    "colab": {
     "base_uri": "https://localhost:8080/"
    },
    "id": "kalX-EhkEYLs",
    "outputId": "076d3ff1-28f9-49e1-9153-ecb55cd9e043"
   },
   "outputs": [
    {
     "name": "stdout",
     "output_type": "stream",
     "text": [
      "Best_params:  {'pca__n_components': 18, 'svc__kernel': 'rbf'}\n",
      "Accuracy:  0.9347525046680707\n"
     ]
    }
   ],
   "source": [
    "final_svc = GridSearchCV(svc_pipeline, svc_param_grid, cv = 5)\n",
    "final_svc.fit(all_images, all_labels)\n",
    "\n",
    "print(\"Best_params: \", final_svc.best_params_)\n",
    "print(\"Accuracy: \", final_svc.best_score_)\n",
    "filename = 'final_svc_model.sav'"
   ]
  },
  {
   "cell_type": "markdown",
   "metadata": {
    "id": "dxqnQ1DnQs1A"
   },
   "source": [
    "#### Important!\n",
    "Dump final model to save a lot of work!"
   ]
  },
  {
   "cell_type": "code",
   "execution_count": 38,
   "metadata": {
    "id": "tjpO08K-Qrao"
   },
   "outputs": [],
   "source": [
    "pickle.dump(final_svc, open(filename, 'wb'))"
   ]
  },
  {
   "cell_type": "markdown",
   "metadata": {
    "id": "4X_lRedIel28"
   },
   "source": [
    "### Step 3: Testing Model on Unseen Data\n",
    "It's important for our model to be accurate on unseen data. Otherwise, our model is not very useful, as it is unfit for evaluating new data. Thus, the next step is to test it on another [dataset](https://www.kaggle.com/datasets/pranavraikokte/covid19-image-dataset), and evaluate its performance thusly.\n",
    "\n",
    "We can evaluate its effective accuracy through:\n",
    "* Confusion Matrix\n",
    "* F-Score\n",
    "* General Accuracy"
   ]
  },
  {
   "cell_type": "code",
   "execution_count": 11,
   "metadata": {},
   "outputs": [],
   "source": [
    "loaded_model = pickle.load(open(filename, 'rb'))\n",
    "# Load in the images from the holdout set\n",
    "holdout_paths = [\"Covid19-dataset/test/COVID-19/\", \n",
    "                 \"Covid19-dataset/test/Normal/\", \n",
    "                 \"Covid19-dataset/test/Pneumonia-Viral/\",\n",
    "                 \"Covid19-dataset/train/COVID-19/\",\n",
    "                 \"Covid19-dataset/train/Normal/\",\n",
    "                 \"Covid19-dataset/train/Pneumonia-Viral/\"]\n",
    "holdout_images = []\n",
    "holdout_labels = []\n",
    "for path in holdout_paths:\n",
    "    collect_images(path, holdout_images, holdout_labels)"
   ]
  },
  {
   "cell_type": "markdown",
   "metadata": {},
   "source": [
    "#### 3A. Confusion Matrix\n",
    "\n",
    "Flatten the holdout images and display the Confusion Matrix given the holdout labels and predictions."
   ]
  },
  {
   "cell_type": "code",
   "execution_count": 12,
   "metadata": {},
   "outputs": [
    {
     "data": {
      "text/plain": [
       "<sklearn.metrics._plot.confusion_matrix.ConfusionMatrixDisplay at 0x7fec25036400>"
      ]
     },
     "execution_count": 12,
     "metadata": {},
     "output_type": "execute_result"
    },
    {
     "data": {
      "image/png": "[encoded data removed]",
      "text/plain": [
       "<Figure size 640x480 with 2 Axes>"
      ]
     },
     "metadata": {},
     "output_type": "display_data"
    }
   ],
   "source": [
    "flatten_images(holdout_images)\n",
    "predictions = loaded_model.predict(holdout_images)\n",
    "ConfusionMatrixDisplay.from_predictions(holdout_labels, predictions)"
   ]
  },
  {
   "cell_type": "markdown",
   "metadata": {},
   "source": [
    "#### 3B. General Accuracy\n",
    "\n",
    "Display the percentage of records that the model predicts correctly."
   ]
  },
  {
   "cell_type": "code",
   "execution_count": 33,
   "metadata": {},
   "outputs": [
    {
     "name": "stdout",
     "output_type": "stream",
     "text": [
      "Total accuracy on different dataset:  82.96529968454259 %\n"
     ]
    }
   ],
   "source": [
    "accuracy = accuracy_score(holdout_labels, predictions)\n",
    "print(\"Total accuracy on different dataset: \", accuracy * 100, \"%\")"
   ]
  },
  {
   "cell_type": "markdown",
   "metadata": {},
   "source": [
    "#### 3C. F-Score\n",
    "Display the F-score of the model"
   ]
  },
  {
   "cell_type": "code",
   "execution_count": null,
   "metadata": {},
   "outputs": [],
   "source": []
  },
  {
   "cell_type": "markdown",
   "metadata": {},
   "source": [
    "### Conclusion for SVM Classifiers\n",
    "\n",
    "The SVM classifiers seem to do a good job at classifying whether someone has Covid-19, viral pneumonia, or is healthy given a large number X-ray images to train on. It took a few hours to do the cross-validation, and that could probably be decremented by resizing the images to smaller dimensions at the expense of some accuracy. \n",
    "\n",
    "One problematic thing with the model's prediction is that it has a non-trivial amount of false-negatives for viral pneumonia. This possibly be countered if we applied a cost matrix that punished false-negatives."
   ]
  },
  {
   "cell_type": "markdown",
   "metadata": {},
   "source": [
    "## Model: Decision Tree"
   ]
  },
  {
   "cell_type": "code",
   "execution_count": 13,
   "metadata": {},
   "outputs": [],
   "source": [
    "dtc = DecisionTreeClassifier()\n",
    "tree_params = {'max_depth': list(range(5, 21, 5)), \n",
    "               'min_samples_leaf': list(range(5, 21, 5)), \n",
    "               'max_features': list(range(5, 16, 5))}\n",
    "inner_dtc = GridSearchCV(dtc, tree_params, cv = 5)"
   ]
  },
  {
   "cell_type": "code",
   "execution_count": 17,
   "metadata": {},
   "outputs": [],
   "source": [
    "dtc_cross_accuracy = cross_val_score(inner_dtc, all_images, all_labels, cv = 5)"
   ]
  },
  {
   "cell_type": "code",
   "execution_count": 18,
   "metadata": {},
   "outputs": [
    {
     "name": "stdout",
     "output_type": "stream",
     "text": [
      "Accuracy for dtc:  0.8271313846165823\n"
     ]
    }
   ],
   "source": [
    "print(\"Accuracy for dtc: \", sum(dtc_cross_accuracy) / len(dtc_cross_accuracy))"
   ]
  },
  {
   "cell_type": "code",
   "execution_count": 20,
   "metadata": {},
   "outputs": [],
   "source": [
    "dtc_final_model = GridSearchCV(dtc, tree_params, cv = 5)\n",
    "dtc_final_model.fit(all_images, all_labels)\n",
    "filename = 'final_dtc_model.sav'\n",
    "pickle.dump(dtc_final_model, open(filename, 'wb'))"
   ]
  },
  {
   "cell_type": "code",
   "execution_count": 21,
   "metadata": {},
   "outputs": [
    {
     "name": "stdout",
     "output_type": "stream",
     "text": [
      "Total accuracy on different dataset:  73.18611987381703 %\n"
     ]
    }
   ],
   "source": [
    "dtc_final_model = pickle.load(open(filename, 'rb'))\n",
    "dtc_predictions = dtc_final_model.predict(holdout_images)\n",
    "dtc_accuracy = accuracy_score(holdout_labels, dtc_predictions)\n",
    "print(\"Total accuracy on different dataset: \", dtc_accuracy * 100, \"%\")"
   ]
  },
  {
   "cell_type": "markdown",
   "metadata": {},
   "source": [
    "## Model: K-Nearest Neighbors (KNN)"
   ]
  },
  {
   "cell_type": "markdown",
   "metadata": {},
   "source": [
    "K-Nearest Neighbors is a simple classification algorithm where each training example is represented as a data point in d-dimensional space (d number of attributes). The distance to all other training points is calculated for every training point, and the test record is classified based on the majority of the class labels of the k-nearest neighbors. \n",
    "\n",
    "K-Nearest Neighbors can be good for the task of image classification because it can be effective in capturing localized patterns: in this case, specific patterns in pixels at specific locations in an image."
   ]
  },
  {
   "cell_type": "markdown",
   "metadata": {},
   "source": [
    "## Step 1: Cross-Validation\n",
    "### 1A. Create a Pipeline\n",
    "Since KNN uses proximity to make classifications, data scaling is crucial. In the same way, the model suffers from the curse of dimensionality, so reducing the dimensionality of the data via PCA to find the optimal number of dimensions for the model is crucial. We'll define a pipeline to do data scaling, PCA, and then KNN. For our inner cross validation loop, we'll try n_components ranging from 5-18 for the PCA, n_neighbors ranging from 3-18 for KNN, and 'uniform' and 'distance' weights for KNN. "
   ]
  },
  {
   "cell_type": "code",
   "execution_count": 17,
   "metadata": {},
   "outputs": [],
   "source": [
    "from sklearn.neighbors import KNeighborsClassifier\n",
    "\n",
    "scaler = StandardScaler()\n",
    "pca = PCA()\n",
    "knn = KNeighborsClassifier()\n",
    "knn_pipeline = Pipeline(steps = [('scaler', scaler), ('pca', pca), ('knn', knn)])\n",
    "\n",
    "knn_parameters = {'pca__n_components': list(range(5, 19)),\n",
    "                  'knn__n_neighbors': list(range(3, 19, 3)), \n",
    "                  'knn__weights': ['uniform', 'distance']}\n",
    "\n",
    "inner_knn = GridSearchCV(knn_pipeline, knn_parameters, cv=5)"
   ]
  },
  {
   "cell_type": "markdown",
   "metadata": {},
   "source": [
    "### 2A. Cross-Validation Score\n",
    "Put the inner_knn cross-validation loop into cross_val_score with cv=5. cross_val_score will function as the outer part of the CV loop."
   ]
  },
  {
   "cell_type": "code",
   "execution_count": 18,
   "metadata": {},
   "outputs": [
    {
     "name": "stdout",
     "output_type": "stream",
     "text": [
      "finished finding knn parameters in 11768.00635766983 seconds\n"
     ]
    }
   ],
   "source": [
    "import time\n",
    "\n",
    "# import warnings filter\n",
    "from warnings import simplefilter\n",
    "# ignore all future warnings\n",
    "simplefilter(action='ignore', category=FutureWarning)\n",
    "\n",
    "start_time = time.time()\n",
    "\n",
    "knn_cross_accuracy = cross_val_score(inner_knn, all_images, all_labels, cv=5, n_jobs=-1)\n",
    "\n",
    "print(f\"finished finding knn parameters in {time.time() - start_time} seconds\")"
   ]
  },
  {
   "cell_type": "code",
   "execution_count": 19,
   "metadata": {},
   "outputs": [
    {
     "name": "stdout",
     "output_type": "stream",
     "text": [
      "knn accuracy: 0.9366853908527875\n"
     ]
    }
   ],
   "source": [
    "print(\"knn accuracy:\", sum(knn_cross_accuracy) / len(knn_cross_accuracy))"
   ]
  },
  {
   "cell_type": "markdown",
   "metadata": {},
   "source": [
    "### 3A. Create the Final Model\n",
    "Since the cross-validation loop had a high accuracy, using the KNN model for classifying X-ray images is appropriate. We will now fit the knn model with the entire dataset to build the final model."
   ]
  },
  {
   "cell_type": "code",
   "execution_count": 22,
   "metadata": {},
   "outputs": [
    {
     "data": {
      "text/plain": [
       "GridSearchCV(cv=5,\n",
       "             estimator=Pipeline(steps=[('scaler', StandardScaler()),\n",
       "                                       ('pca', PCA()),\n",
       "                                       ('knn', KNeighborsClassifier())]),\n",
       "             param_grid={'knn__n_neighbors': [3, 6, 9, 12, 15, 18],\n",
       "                         'knn__weights': ['uniform', 'distance'],\n",
       "                         'pca__n_components': [5, 6, 7, 8, 9, 10, 11, 12, 13,\n",
       "                                               14, 15, 16, 17, 18]})"
      ]
     },
     "execution_count": 22,
     "metadata": {},
     "output_type": "execute_result"
    }
   ],
   "source": [
    "final_knn = GridSearchCV(knn_pipeline, knn_parameters, cv=5)\n",
    "final_knn.fit(all_images, all_labels)"
   ]
  },
  {
   "cell_type": "code",
   "execution_count": 23,
   "metadata": {},
   "outputs": [
    {
     "name": "stdout",
     "output_type": "stream",
     "text": [
      "Best params: {'knn__n_neighbors': 15, 'knn__weights': 'distance', 'pca__n_components': 17}\n",
      "Accuracy: 0.9387800861857549\n"
     ]
    }
   ],
   "source": [
    "print(\"Best params:\", final_knn.best_params_)\n",
    "print(\"Accuracy:\", final_knn.best_score_)"
   ]
  },
  {
   "cell_type": "code",
   "execution_count": 24,
   "metadata": {},
   "outputs": [],
   "source": [
    "knn_filename = 'final_knn_model.sav'\n",
    "pickle.dump(final_knn, open(knn_filename, 'wb'))"
   ]
  },
  {
   "cell_type": "markdown",
   "metadata": {},
   "source": [
    "## Step 2: Testing Model on Unseen Data\n",
    "We can get a good idea of how well our model generalizes to new data by testing it on an independent dataset.\n",
    "We will evaluate effective accuracy through:\n",
    "* Confusion Matrix\n",
    "* F-Score\n",
    "* General Accuracy"
   ]
  },
  {
   "cell_type": "code",
   "execution_count": 34,
   "metadata": {},
   "outputs": [],
   "source": [
    "filename = 'final_knn_model.sav'\n",
    "loaded_model = pickle.load(open(filename, 'rb'))\n",
    "# Load in the images from the holdout set\n",
    "holdout_paths = [\"Covid19-dataset/test/COVID-19/\", \n",
    "                 \"Covid19-dataset/test/Normal/\", \n",
    "                 \"Covid19-dataset/test/Pneumonia-Viral/\",\n",
    "                 \"Covid19-dataset/train/COVID-19/\",\n",
    "                 \"Covid19-dataset/train/Normal/\",\n",
    "                 \"Covid19-dataset/train/Pneumonia-Viral/\"]\n",
    "holdout_images = []\n",
    "holdout_labels = []\n",
    "for path in holdout_paths:\n",
    "    collect_images(path, holdout_images, holdout_labels)\n",
    "flatten_images(holdout_images)"
   ]
  },
  {
   "cell_type": "code",
   "execution_count": 35,
   "metadata": {},
   "outputs": [
    {
     "data": {
      "text/plain": [
       "<sklearn.metrics._plot.confusion_matrix.ConfusionMatrixDisplay at 0x1ff81c92d30>"
      ]
     },
     "execution_count": 35,
     "metadata": {},
     "output_type": "execute_result"
    },
    {
     "data": {
      "image/png": "[encoded data removed]",
      "text/plain": [
       "<Figure size 640x480 with 2 Axes>"
      ]
     },
     "metadata": {},
     "output_type": "display_data"
    }
   ],
   "source": [
    "predictions = loaded_model.predict(holdout_images)\n",
    "ConfusionMatrixDisplay.from_predictions(holdout_labels, predictions)"
   ]
  },
  {
   "cell_type": "code",
   "execution_count": 33,
   "metadata": {},
   "outputs": [
    {
     "name": "stdout",
     "output_type": "stream",
     "text": [
      "                 precision    recall  f1-score   support\n",
      "\n",
      "          Covid       0.69      0.96      0.81        26\n",
      "         Normal       0.89      0.88      0.88        90\n",
      "Pneumonia-Viral       1.00      0.55      0.71        20\n",
      "\n",
      "       accuracy                           0.85       136\n",
      "      macro avg       0.86      0.80      0.80       136\n",
      "   weighted avg       0.87      0.85      0.84       136\n",
      "\n"
     ]
    }
   ],
   "source": [
    "report = classification_report(holdout_labels, predictions)\n",
    "print(report)"
   ]
  },
  {
   "cell_type": "markdown",
   "metadata": {},
   "source": [
    "## Conclusion for KNN\n",
    "KNN appears to perform well for the task of classifying whether someone has Covid-19, viral pneumonia, or is healthy given x-ray image data. Noticeably however, there are a large number of false-negatives for viral pneumonia. As stated in previous conclusions, a cost matrix could be applied to deter false-negatives."
   ]
  },
  {
   "cell_type": "markdown",
   "metadata": {},
   "source": []
  }
 ],
 "metadata": {
  "colab": {
   "provenance": [],
   "toc_visible": true
  },
  "kernelspec": {
   "display_name": "Python 3 (ipykernel)",
   "language": "python",
   "name": "python3"
  },
  "language_info": {
   "codemirror_mode": {
    "name": "ipython",
    "version": 3
   },
   "file_extension": ".py",
   "mimetype": "text/x-python",
   "name": "python",
   "nbconvert_exporter": "python",
   "pygments_lexer": "ipython3",
   "version": "3.9.13"
  }
 },
 "nbformat": 4,
 "nbformat_minor": 1
}
