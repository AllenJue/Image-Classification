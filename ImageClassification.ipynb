{
 "cells": [
  {
   "cell_type": "code",
   "execution_count": 3,
   "metadata": {
    "colab": {
     "base_uri": "https://localhost:8080/"
    },
    "id": "Z_vPsLhXuKQW",
    "outputId": "2b05156f-3d50-4827-db33-47654c5eaf41"
   },
   "outputs": [],
   "source": [
    "# from google.colab import drive\n",
    "# drive.mount('/content/drive', force_remount=True)"
   ]
  },
  {
   "cell_type": "code",
   "execution_count": 4,
   "metadata": {
    "colab": {
     "base_uri": "https://localhost:8080/"
    },
    "id": "RiBjcglxumNw",
    "outputId": "09bb802c-27f5-4128-f585-6924be2875c0"
   },
   "outputs": [],
   "source": [
    "# %cd drive/MyDrive/Colab_Notebooks/Image_Classification/Covid19-dataset"
   ]
  },
  {
   "cell_type": "markdown",
   "metadata": {},
   "source": [
    "# Chest X-Ray Image Classification\n",
    "\n",
    "This project intends to explore different `scikit-learn` models and their accuracy of predicting whether a person's chest x-ray suggests that they are healthy, have Covid-19, or viral pneumonia. Two datasets are used: [training data](https://www.kaggle.com/datasets/artyomkolas/3-kinds-of-pneumonia) and [holdout data](https://www.kaggle.com/datasets/pranavraikokte/covid19-image-dataset).\n",
    "\n",
    "The project explores three different models, SVM, decision trees, and neural nets. "
   ]
  },
  {
   "cell_type": "code",
   "execution_count": 5,
   "metadata": {
    "id": "n1cUdPXr7ooW"
   },
   "outputs": [],
   "source": [
    "import cv2\n",
    "import glob\n",
    "import os\n",
    "import numpy as np\n",
    "from matplotlib import pyplot as plt\n",
    "import random\n",
    "import pickle \n",
    "\n",
    "# Data preprocessing\n",
    "# from sklearn.preprocessing import OneHotEncoder\n",
    "\n",
    "# General result validation\n",
    "from sklearn.model_selection import cross_val_score\n",
    "from sklearn.metrics import confusion_matrix\n",
    "from sklearn.metrics import ConfusionMatrixDisplay\n",
    "from sklearn.metrics import f1_score\n",
    "from sklearn.metrics import accuracy_score\n",
    "from sklearn.model_selection import train_test_split\n",
    "\n",
    "# Scaling Data and Cross-Validation\n",
    "from sklearn.pipeline import Pipeline\n",
    "from sklearn.preprocessing import StandardScaler\n",
    "from sklearn.decomposition import PCA\n",
    "from sklearn.model_selection import GridSearchCV\n",
    "\n",
    "# SVC model\n",
    "from sklearn.svm import SVC\n",
    "\n",
    "# Decision Tree Model\n",
    "from sklearn.tree import DecisionTreeClassifier\n",
    "\n",
    "# Neural Net Model\n",
    "from sklearn.neural_network import MLPClassifier\n",
    "from sklearn.exceptions import ConvergenceWarning\n",
    "from warnings import simplefilter\n",
    "\n",
    "simplefilter(action = 'ignore', category = ConvergenceWarning)\n",
    "\n",
    "# Regression Tree Model\n",
    "from sklearn.tree import DecisionTreeRegressor\n"
   ]
  },
  {
   "cell_type": "markdown",
   "metadata": {},
   "source": [
    "## Data Exploration:\n",
    "\n",
    "For this project, the data takes the form of images, which can be manipulated a limited number of ways. To keep things simple, this project will simply ensure that images will be converted into a form that Scikit-Learn algorithms can handle. "
   ]
  },
  {
   "cell_type": "markdown",
   "metadata": {},
   "source": [
    "### Step 1: Data Collection\n",
    "\n",
    "The data from the Kaggle dataset is already cleaned, with \"clusters of defective images are removed during the curation process and a refined dataset is obtained which is available for download.\" All that is left to do regarding the data is to collect it and reshape it into a way that can be processed by the SVM classifier.\n",
    "\n",
    "This involves:\n",
    "* Assigning labels\n",
    "* Reading and resizing images \n",
    "* Flattening images \n",
    "\n",
    "It is imperative to resize the images, as processing very large images can be difficult, especially if we're treating each pixel as a feature. Also, flattening the images (2D array) into a 1D array makes it possible to pass into a SVM classifier."
   ]
  },
  {
   "cell_type": "markdown",
   "metadata": {
    "id": "j2GRFmXQ7v29"
   },
   "source": [
    "#### 1A. Assigning labels\n",
    "Function to return a label associated with a given path. If the path does not exist, raise an `exception`"
   ]
  },
  {
   "cell_type": "code",
   "execution_count": 6,
   "metadata": {
    "id": "tBujj53E7y-6"
   },
   "outputs": [],
   "source": [
    "def get_label_from_path(path):\n",
    "    if \"COVID-19\" in path:\n",
    "        return \"Covid\"\n",
    "    elif \"Normal\" in path:\n",
    "        return \"Normal\"\n",
    "    elif \"Pneumonia-Viral\" in path:\n",
    "        return \"Pneumonia-Viral\"\n",
    "    else:\n",
    "        raise Exception(\"Path does not contain a valid feature label: \", path)"
   ]
  },
  {
   "cell_type": "markdown",
   "metadata": {
    "id": "EVmU_kWDr28S"
   },
   "source": [
    "#### 1B. Reading and Resizing Images\n",
    "Function to read images from a folder given a path and resize them"
   ]
  },
  {
   "cell_type": "code",
   "execution_count": 7,
   "metadata": {
    "id": "LU4O1Ti_oHCm"
   },
   "outputs": [],
   "source": [
    "def collect_images(path, total_features, total_labels):\n",
    "    temp_files = []\n",
    "    [temp_files.extend(glob.glob(path + '*.' + e)) for e in ext]\n",
    "    temp_images = [cv2.imread(file) for file in temp_files]\n",
    "    resized_images = []\n",
    "    for image in temp_images:\n",
    "        resized_images.append(cv2.resize(image, (100, 100)))\n",
    "        total_labels.append(get_label_from_path(path))\n",
    "    total_features.extend(resized_images)"
   ]
  },
  {
   "cell_type": "markdown",
   "metadata": {
    "id": "O9SorYbdr-4d"
   },
   "source": [
    "Utilize the `collect_images` and `get_label_from_path` methods to read in images from the **Curated-dataset**.\n",
    "\n",
    "Keep a collection of all the images and their features.\n",
    "\n",
    "Temporarily keep a train and test split (80-20) to model a small classifier later."
   ]
  },
  {
   "cell_type": "code",
   "execution_count": 8,
   "metadata": {},
   "outputs": [],
   "source": [
    "train_paths = [\"Curated-dataset/COVID-19/\", \"Curated-dataset/Normal/\", \"Curated-dataset/Pneumonia-Viral/\"]\n",
    "# test_paths = [\"test/Covid/\", \"test/Normal/\", \"test/Viral_Pneumonia/\"]\n",
    "ext = ['png', 'jpg', 'jpeg']    # Add image formats here\n",
    "all_images = []\n",
    "all_labels = []\n",
    "\n",
    "# Collect all images from Curated-dataset\n",
    "for path in train_paths:\n",
    "    collect_images(path, all_images, all_labels)\n",
    "\n",
    "# After collecting all images, randomize them\n",
    "temp_arr = []\n",
    "for i in range(len(all_images)):\n",
    "    temp_arr.append((all_images[i], all_labels[i]))\n",
    "random.shuffle(temp_arr)\n",
    "for i in range(len(all_images)):\n",
    "    all_images[i] = temp_arr[i][0]\n",
    "    all_labels[i] = temp_arr[i][1]\n",
    "\n",
    "# Temporarily keep a partition of training data and testing data\n",
    "FIFTH_OF_DATA = int(0.2 * len(all_images))\n",
    "train_images = all_images[: 4 * FIFTH_OF_DATA]\n",
    "train_labels = all_labels[: 4 * FIFTH_OF_DATA]\n",
    "test_images = all_images[4 * FIFTH_OF_DATA:]\n",
    "test_labels = all_labels[4 * FIFTH_OF_DATA:]"
   ]
  },
  {
   "cell_type": "markdown",
   "metadata": {},
   "source": [
    "Verify the dimensions of the data"
   ]
  },
  {
   "cell_type": "code",
   "execution_count": 9,
   "metadata": {},
   "outputs": [
    {
     "name": "stdout",
     "output_type": "stream",
     "text": [
      "Training data:  4964 4964\n",
      "Testing data:  1243 1243\n",
      "All data:  6207 6207\n"
     ]
    }
   ],
   "source": [
    "print(\"Training data: \", len(train_images), len(train_labels))\n",
    "print(\"Testing data: \", len(test_images), len(test_labels))\n",
    "print(\"All data: \", len(all_images), len(all_labels))"
   ]
  },
  {
   "cell_type": "markdown",
   "metadata": {
    "id": "eKqsURy8rwqY"
   },
   "source": [
    "Function that prints out the avg dimensions of a set of images."
   ]
  },
  {
   "cell_type": "code",
   "execution_count": 10,
   "metadata": {
    "id": "-sx72kO-o31i"
   },
   "outputs": [],
   "source": [
    "def print_dimensions(images):\n",
    "    average_x = 0\n",
    "    average_y = 0\n",
    "    min_x = 1000000\n",
    "    min_y = 1000000\n",
    "    train_len = len(images)\n",
    "    for image in images:\n",
    "        dimension = image.shape\n",
    "        average_x += dimension[0]\n",
    "        min_x = min(min_x, dimension[0])\n",
    "        if(len(dimension) > 1):\n",
    "            average_y += dimension[1]\n",
    "            min_y = min(min_y, dimension[1])\n",
    "        print(\"Average width: \", average_x / train_len)\n",
    "        print(\"Min width: \", min_x)\n",
    "        if(len(dimension) > 1):\n",
    "            print(\"Average height: \", average_y / train_len)\n",
    "            print(\"Min height: \", min_y, \"\\n\")"
   ]
  },
  {
   "cell_type": "markdown",
   "metadata": {},
   "source": [
    "Ensure that the images have been resized correctly to be *100x100*"
   ]
  },
  {
   "cell_type": "code",
   "execution_count": 11,
   "metadata": {
    "colab": {
     "base_uri": "https://localhost:8080/"
    },
    "id": "10oLXbMv0ivZ",
    "outputId": "9cf93afa-52d3-44cf-ad89-f81157db8db3"
   },
   "outputs": [],
   "source": [
    "# print(\"Train image information: \")\n",
    "# print_dimensions(train_images)"
   ]
  },
  {
   "cell_type": "markdown",
   "metadata": {
    "id": "u4Gk74UUsEdl"
   },
   "source": [
    "Visualize a few of the training images to see what the computer would see. An observation is that the general shapes of things remain intact and are not particularly distorted. Some details may be obfuscated."
   ]
  },
  {
   "cell_type": "code",
   "execution_count": 12,
   "metadata": {
    "colab": {
     "base_uri": "https://localhost:8080/",
     "height": 824
    },
    "id": "H9sMJfiZsI41",
    "outputId": "824ce8f5-ab1f-46cd-ffee-ce8974e95ec9"
   },
   "outputs": [
    {
     "name": "stdout",
     "output_type": "stream",
     "text": [
      "<class 'numpy.ndarray'>\n"
     ]
    },
    {
     "data": {
      "image/png": "[encoded data removed]",
      "text/plain": [
       "<Figure size 640x480 with 1 Axes>"
      ]
     },
     "metadata": {},
     "output_type": "display_data"
    },
    {
     "name": "stdout",
     "output_type": "stream",
     "text": [
      "<class 'numpy.ndarray'>\n"
     ]
    },
    {
     "data": {
      "image/png": "[encoded data removed]",
      "text/plain": [
       "<Figure size 640x480 with 1 Axes>"
      ]
     },
     "metadata": {},
     "output_type": "display_data"
    },
    {
     "name": "stdout",
     "output_type": "stream",
     "text": [
      "<class 'numpy.ndarray'>\n"
     ]
    },
    {
     "data": {
      "image/png": "[encoded data removed]",
      "text/plain": [
       "<Figure size 640x480 with 1 Axes>"
      ]
     },
     "metadata": {},
     "output_type": "display_data"
    }
   ],
   "source": [
    "for i in range(3):\n",
    "    random_img = random.choice(train_images)\n",
    "    print(type(random_img))\n",
    "    plt.imshow(random_img, interpolation='nearest')\n",
    "    plt.show()"
   ]
  },
  {
   "cell_type": "markdown",
   "metadata": {},
   "source": [
    "#### 1C. Flattening Images\n",
    "\n",
    "Create a method to flatten an array of images. Apply that to `train_images`, `test_images`, and `all_images`"
   ]
  },
  {
   "cell_type": "markdown",
   "metadata": {
    "id": "VCr9UOXbyTNb"
   },
   "source": [
    "Function to flatten collection of 2D arrays into 1D arrays"
   ]
  },
  {
   "cell_type": "code",
   "execution_count": 13,
   "metadata": {
    "id": "DnEy3gEuyR_i"
   },
   "outputs": [],
   "source": [
    "def flatten_images(images):\n",
    "    for i in range(len(images)):\n",
    "        images[i] = np.reshape(images[i], -1)"
   ]
  },
  {
   "cell_type": "markdown",
   "metadata": {},
   "source": [
    "## Model: SVM Classifier\n",
    "\n",
    "The first model to explore is the SVM classifier. Characteristics of SVM classifiers include:\n",
    "* **Not** susceptible to the curse of dimensionality\n",
    "* Always possible to find an optimal solution\n",
    "* Data needs to be scaled\n",
    "* Hyperparameters can be tuned with cross-validation"
   ]
  },
  {
   "cell_type": "markdown",
   "metadata": {},
   "source": [
    "### Step 1: Cross-Validation\n",
    "\n",
    "To find the best parameters and verify the process of using an SVM classifier, we will use cross-validation. \n",
    "\n",
    "This involves:\n",
    "* Creating a Pipeline for the data\n",
    "* Running a nested cross-validation loop\n",
    "* Creating a final model\n",
    "\n",
    "We need to create a pipeline to try different ways to scale the data, different ways to project features to lower dimensions, and try different classifiers. The nested cross-validation loop will help verify the accuracy of the classifier and partition the data automatically. Once the process has been deemed valid, we can create a final model."
   ]
  },
  {
   "cell_type": "markdown",
   "metadata": {
    "id": "9AcJKkOD8D1M"
   },
   "source": [
    "#### 1A. Create a Pipeline for the Data\n",
    "\n",
    "Create a StandardScaler object, PCA object, and Pipeline which takes the aforementioned objects. These will be used with a param grid that will try pca `__n_components` from 5-18 and svc `__kernel`'s, `linear`, `rbf`, and `poly`. These will be passed into a `GridSearchCV` object to create the inner-loop of the cross-validation loop with folds = 5. "
   ]
  },
  {
   "cell_type": "code",
   "execution_count": 14,
   "metadata": {
    "id": "6cabBs9ZTO1_"
   },
   "outputs": [],
   "source": [
    "# flatten each collection of images\n",
    "flatten_images(train_images)\n",
    "flatten_images(test_images)\n",
    "flatten_images(all_images)\n",
    "\n",
    "scaler = StandardScaler()\n",
    "pca = PCA()\n",
    "svc_classifier = SVC()\n",
    "svc_pipeline = Pipeline(steps = [('scaler', scaler), \n",
    "                                 ('pca', pca), \n",
    "                                 ('svc', svc_classifier)])\n",
    "\n",
    "svc_param_grid = {\n",
    "    'pca__n_components': list(range(5, 19)),\n",
    "    'svc__kernel': ['linear', 'rbf', 'poly']\n",
    "}"
   ]
  },
  {
   "cell_type": "markdown",
   "metadata": {},
   "source": [
    "#### 1B. Run Nested Cross-Validation Loop\n",
    "\n",
    "Pass the inner_svm, which is scaled, using PCA, and will try various params into a `cross_val_score`, which will produce the results of the outer cross-validation loop with folds = 5. Pass in the entire dataset, as these methods will automatically partition the data. This will take a decent amount of time, as there are 10,000 features per image (100 x 100), and the number of models to train.\n",
    "\n",
    "When it's complete, print the average accuracy."
   ]
  },
  {
   "cell_type": "code",
   "execution_count": 36,
   "metadata": {
    "colab": {
     "base_uri": "https://localhost:8080/"
    },
    "id": "qWVZTcaX1kBd",
    "outputId": "0dfbc9d4-d27c-48d6-9c83-0a2315329d3a"
   },
   "outputs": [
    {
     "name": "stdout",
     "output_type": "stream",
     "text": [
      "Accuracy with holdout:  0.9517296862429606\n",
      "Svc accuracy:  0.9347525046680707\n"
     ]
    }
   ],
   "source": [
    "# Test a singular classifier trained on a single partition\n",
    "svc_classifier.fit(train_images, train_labels)\n",
    "predictions = svc_classifier.predict(test_images)\n",
    "print(\"Accuracy with holdout: \", \n",
    "      accuracy_score(test_labels, predictions))\n",
    "\n",
    "# Create the inner cross-validation loop with a cv = 5\n",
    "inner_svm = GridSearchCV(svc_pipeline, svc_param_grid, cv = 5)\n",
    "# Run outer cross-validation loop with cv = 5\n",
    "fold_accuracies = cross_val_score(inner_svm, \n",
    "                                  all_images, \n",
    "                                  all_labels, \n",
    "                                  cv = 5)\n",
    "print(\"Svc accuracy: \", sum(fold_accuracies) / len(fold_accuracies))"
   ]
  },
  {
   "cell_type": "markdown",
   "metadata": {},
   "source": [
    "#### 1C. Create a Final Model\n",
    "\n",
    "Given that the cross-validation loop had a relatively high accuracy, it is safe to say that the SVM model is appropriate for classifying X-ray images. Fit the inner-loop on all the data, and display the best hpyerparameters and its overall accuracy."
   ]
  },
  {
   "cell_type": "code",
   "execution_count": 37,
   "metadata": {
    "colab": {
     "base_uri": "https://localhost:8080/"
    },
    "id": "kalX-EhkEYLs",
    "outputId": "076d3ff1-28f9-49e1-9153-ecb55cd9e043"
   },
   "outputs": [
    {
     "name": "stdout",
     "output_type": "stream",
     "text": [
      "Best_params:  {'pca__n_components': 18, 'svc__kernel': 'rbf'}\n",
      "Accuracy:  0.9347525046680707\n"
     ]
    }
   ],
   "source": [
    "final_svc = GridSearchCV(svc_pipeline, svc_param_grid, cv = 5)\n",
    "final_svc.fit(all_images, all_labels)\n",
    "\n",
    "print(\"Best_params: \", final_svc.best_params_)\n",
    "print(\"Accuracy: \", final_svc.best_score_)\n",
    "filename = 'final_svc_model.sav'"
   ]
  },
  {
   "cell_type": "markdown",
   "metadata": {
    "id": "dxqnQ1DnQs1A"
   },
   "source": [
    "#### Important!\n",
    "Dump final model to save a lot of work!"
   ]
  },
  {
   "cell_type": "code",
   "execution_count": 38,
   "metadata": {
    "id": "tjpO08K-Qrao"
   },
   "outputs": [],
   "source": [
    "pickle.dump(final_svc, open(filename, 'wb'))"
   ]
  },
  {
   "cell_type": "markdown",
   "metadata": {
    "id": "4X_lRedIel28"
   },
   "source": [
    "### Step 2: Testing Model on Unseen Data\n",
    "It's important for our model to be accurate on unseen data. Otherwise, our model is not very useful, as it is unfit for evaluating new data. Thus, the next step is to test it on another [dataset](https://www.kaggle.com/datasets/pranavraikokte/covid19-image-dataset), and evaluate its performance thusly.\n",
    "\n",
    "We can evaluate its effective accuracy through:\n",
    "* Confusion Matrix\n",
    "* F-Score\n",
    "* General Accuracy"
   ]
  },
  {
   "cell_type": "code",
   "execution_count": 15,
   "metadata": {},
   "outputs": [],
   "source": [
    "# Load in the images from the holdout set\n",
    "holdout_paths = [\"Covid19-dataset/test/COVID-19/\", \n",
    "                 \"Covid19-dataset/test/Normal/\", \n",
    "                 \"Covid19-dataset/test/Pneumonia-Viral/\",\n",
    "                 \"Covid19-dataset/train/COVID-19/\",\n",
    "                 \"Covid19-dataset/train/Normal/\",\n",
    "                 \"Covid19-dataset/train/Pneumonia-Viral/\"]\n",
    "holdout_images = []\n",
    "holdout_labels = []\n",
    "for path in holdout_paths:\n",
    "    collect_images(path, holdout_images, holdout_labels)\n",
    "flatten_images(holdout_images)"
   ]
  },
  {
   "cell_type": "code",
   "execution_count": 21,
   "metadata": {},
   "outputs": [],
   "source": [
    "# Load the saved model for SVC\n",
    "filename = 'final_svc_model.sav'\n",
    "loaded_model = pickle.load(open(filename, 'rb'))"
   ]
  },
  {
   "cell_type": "markdown",
   "metadata": {},
   "source": [
    "#### 2A. Confusion Matrix\n",
    "Flatten the holdout images and display the Confusion Matrix given the holdout labels and predictions."
   ]
  },
  {
   "cell_type": "code",
   "execution_count": 16,
   "metadata": {},
   "outputs": [
    {
     "data": {
      "text/plain": [
       "<sklearn.metrics._plot.confusion_matrix.ConfusionMatrixDisplay at 0x7f9fb836ecd0>"
      ]
     },
     "execution_count": 16,
     "metadata": {},
     "output_type": "execute_result"
    },
    {
     "data": {
      "image/png": "[encoded data removed]",
      "text/plain": [
       "<Figure size 640x480 with 2 Axes>"
      ]
     },
     "metadata": {},
     "output_type": "display_data"
    }
   ],
   "source": [
    "predictions = loaded_model.predict(holdout_images)\n",
    "ConfusionMatrixDisplay.from_predictions(holdout_labels, predictions)"
   ]
  },
  {
   "cell_type": "markdown",
   "metadata": {},
   "source": [
    "#### 2B. F-Score\n",
    "Display the F-score of the model."
   ]
  },
  {
   "cell_type": "code",
   "execution_count": 20,
   "metadata": {},
   "outputs": [
    {
     "name": "stdout",
     "output_type": "stream",
     "text": [
      "F score:  0.8215658268942786\n"
     ]
    }
   ],
   "source": [
    "f_score = f1_score(holdout_labels, predictions, average = 'weighted')\n",
    "print(\"F score: \", f_score)"
   ]
  },
  {
   "cell_type": "markdown",
   "metadata": {},
   "source": [
    "#### 2C. General Accuracy\n",
    "Display the percentage of records that the model predicts correctly."
   ]
  },
  {
   "cell_type": "code",
   "execution_count": 33,
   "metadata": {},
   "outputs": [
    {
     "name": "stdout",
     "output_type": "stream",
     "text": [
      "Total accuracy on different dataset:  82.96529968454259 %\n"
     ]
    }
   ],
   "source": [
    "accuracy = accuracy_score(holdout_labels, predictions)\n",
    "print(\"Total accuracy on different dataset: \", accuracy * 100, \"%\")"
   ]
  },
  {
   "cell_type": "markdown",
   "metadata": {},
   "source": [
    "### Conclusion for SVM Classifiers\n",
    "\n",
    "The SVM classifiers seem to do a good job at classifying whether someone has Covid-19, viral pneumonia, or is healthy given a large number X-ray images to train on. It took a few hours to do the cross-validation, and that could probably be decremented by resizing the images to smaller dimensions at the expense of some accuracy. \n",
    "\n",
    "One problematic thing with the model's prediction is that it has a non-trivial amount of false-negatives for viral pneumonia. This possibly be countered if we applied a cost matrix that punished false-negatives.\n",
    "\n",
    "When viewing the F-score of the model, which a harmonic mean of precision and recall, we can see that it is about 0.82. We used `weighted` average to calculate the f1_score, as not all of the class labels were evenly distributed. This F-score is fairly good."
   ]
  },
  {
   "cell_type": "markdown",
   "metadata": {},
   "source": [
    "## Model: Decision Tree\n",
    "\n",
    "Decision trees are a type of supervised classifier that try to find ways to split the data with hyperplanes to decrease the entropy of the data into increasingly homogeneous groups. Decision Trees are a good choice for classifying images because:\n",
    "\n",
    "* They are fast\n",
    "* They are not affected by the curse of dimensionality\n",
    "* Data does not need to be scaled\n",
    "* Can handle multiple outputs"
   ]
  },
  {
   "cell_type": "markdown",
   "metadata": {},
   "source": [
    "### Step 1: Cross-Validation\n",
    "\n",
    "To find the best parameters and verify the process of using an Decision Tree classifier, we will use cross-validation. \n",
    "\n",
    "This involves:\n",
    "* Creating a Classifier for the data\n",
    "* Running a nested cross-validation loop\n",
    "* Creating a final model\n",
    "\n",
    "We need to create a pipeline to try different ways to scale the data, different ways to project features to lower dimensions, and try different classifiers. The nested cross-validation loop will help verify the accuracy of the classifier and partition the data automatically. Once the process has been deemed valid, we can create a final model."
   ]
  },
  {
   "cell_type": "markdown",
   "metadata": {},
   "source": [
    "#### 1A. Creating a Parameter Grid\n",
    "\n",
    "Simply create a decision tree classifier and some parameters to try for the inner-cross validation. We will try `dtc__max_depth` ranging from 5-20 in increments of 5, `dtc__min_samples_leaf` ranging from 5-20 with increments of 5, and `dtc__max_features` ranging from 5-15 with increments of 5."
   ]
  },
  {
   "cell_type": "code",
   "execution_count": 48,
   "metadata": {},
   "outputs": [],
   "source": [
    "dtc = DecisionTreeClassifier()\n",
    "tree_params = {'max_depth': list(range(5, 21, 5)), \n",
    "               'min_samples_leaf': list(range(5, 21, 5)), \n",
    "               'max_features': list(range(5, 16, 5))}\n",
    "inner_dtc = GridSearchCV(dtc, tree_params, cv = 5)"
   ]
  },
  {
   "cell_type": "markdown",
   "metadata": {},
   "source": [
    "#### 1B. Cross-Validation Score\n",
    "\n",
    "Put the GridSearchCV within a `cross_val_score` with `cv = 5`. This will constitute the outer cross-validation loop. Display the accuracy. "
   ]
  },
  {
   "cell_type": "code",
   "execution_count": 49,
   "metadata": {},
   "outputs": [],
   "source": [
    "dtc_cross_accuracy = cross_val_score(inner_dtc, all_images, all_labels, cv = 5)"
   ]
  },
  {
   "cell_type": "code",
   "execution_count": 50,
   "metadata": {},
   "outputs": [
    {
     "name": "stdout",
     "output_type": "stream",
     "text": [
      "Accuracy for dtc:  0.8293839963356131\n"
     ]
    }
   ],
   "source": [
    "print(\"Accuracy for dtc: \", sum(dtc_cross_accuracy) / len(dtc_cross_accuracy))"
   ]
  },
  {
   "cell_type": "markdown",
   "metadata": {},
   "source": [
    "#### 1C. Creating a Final Model\n",
    "\n",
    "Fit the decision tree model with all of the images and their respective labels. Save this model to a file called `final_dtc_model.sav`. This will save a good amount of time!"
   ]
  },
  {
   "cell_type": "code",
   "execution_count": 51,
   "metadata": {},
   "outputs": [],
   "source": [
    "dtc_final_model = GridSearchCV(dtc, tree_params, cv = 5)\n",
    "dtc_final_model.fit(all_images, all_labels)\n",
    "filename = 'final_dtc_model.sav'\n",
    "pickle.dump(dtc_final_model, open(filename, 'wb'))"
   ]
  },
  {
   "cell_type": "markdown",
   "metadata": {},
   "source": [
    "### Step 2: Testing Model on Unseen Data\n",
    "\n",
    "Again, to avoid data leakage, we do not use the holdout set to train the model. We can get a good idea of how well our model is trained by testing it on some independent dataset.\n",
    "\n",
    "We can evaluate its effective accuracy through:\n",
    "* Confusion Matrix\n",
    "* F-Score\n",
    "* General Accuracy"
   ]
  },
  {
   "cell_type": "code",
   "execution_count": 52,
   "metadata": {},
   "outputs": [],
   "source": [
    "# Load the saved model for Decision Tree\n",
    "filename = 'final_dtc_model.sav'\n",
    "loaded_model = pickle.load(open(filename, 'rb'))"
   ]
  },
  {
   "cell_type": "markdown",
   "metadata": {},
   "source": [
    "#### 2A. Confusion Matrix\n",
    "Flatten the holdout images and display the Confusion Matrix given the holdout labels and predictions."
   ]
  },
  {
   "cell_type": "code",
   "execution_count": 53,
   "metadata": {},
   "outputs": [
    {
     "data": {
      "text/plain": [
       "<sklearn.metrics._plot.confusion_matrix.ConfusionMatrixDisplay at 0x7f9c0024f2b0>"
      ]
     },
     "execution_count": 53,
     "metadata": {},
     "output_type": "execute_result"
    },
    {
     "data": {
      "image/png": "[encoded data removed]",
      "text/plain": [
       "<Figure size 640x480 with 2 Axes>"
      ]
     },
     "metadata": {},
     "output_type": "display_data"
    }
   ],
   "source": [
    "predictions = loaded_model.predict(holdout_images)\n",
    "ConfusionMatrixDisplay.from_predictions(holdout_labels, predictions)"
   ]
  },
  {
   "cell_type": "markdown",
   "metadata": {},
   "source": [
    "#### 2B. F-Score\n",
    "Display the F-Score of the model"
   ]
  },
  {
   "cell_type": "code",
   "execution_count": 54,
   "metadata": {},
   "outputs": [
    {
     "name": "stdout",
     "output_type": "stream",
     "text": [
      "F score:  0.7112372340084104\n"
     ]
    }
   ],
   "source": [
    "f_score = f1_score(holdout_labels, predictions, average = 'weighted')\n",
    "print(\"F score: \", f_score)"
   ]
  },
  {
   "cell_type": "markdown",
   "metadata": {},
   "source": [
    "#### 2C. General Accuracy\n",
    "Display the percentage of records that the model predicts correctly."
   ]
  },
  {
   "cell_type": "code",
   "execution_count": 55,
   "metadata": {},
   "outputs": [
    {
     "name": "stdout",
     "output_type": "stream",
     "text": [
      "Total accuracy on different dataset:  71.60883280757098 %\n"
     ]
    }
   ],
   "source": [
    "dtc_final_model = pickle.load(open(filename, 'rb'))\n",
    "dtc_predictions = dtc_final_model.predict(holdout_images)\n",
    "dtc_accuracy = accuracy_score(holdout_labels, dtc_predictions)\n",
    "print(\"Total accuracy on different dataset: \", dtc_accuracy * 100, \"%\")"
   ]
  },
  {
   "cell_type": "markdown",
   "metadata": {},
   "source": [
    "### Conclusion for Decision Tree\n",
    "\n",
    "The Decision Tree Classifier was used because it is resistant to the curse of dimensionality. It was relatively fast to train (~20 minutes, compared to 3+ hours for Neural Nets). However, its practical advantages stop there, as its accuracy is quickly diminished.\n",
    "\n",
    "Its general accuracy is notably lower than the SVM (73.19% compared to 82.97%). Its F-score is also about 10 points lower. Like the SVM classifier, the decision tree classifier struggled to identify cases of viral pneumonia correctly. With nearly have the cases of viral pneumonia resulting in a false negative, this is a serious issue, where we could use a cost matrix to solve. Overall, this classifier is good for a \"quick and dirty\" way to diagnose Covid-19, but not so for anything else."
   ]
  },
  {
   "cell_type": "markdown",
   "metadata": {},
   "source": [
    "## Model: Neural Net\n",
    "\n",
    "Neural nets are a type of supervised classifier that utilize forward and back propogation to update a series of hidden layer weights to classify certain records. Neural nets are suitable for this type of thing because:\n",
    "\n",
    "* Neural nets can adapt to complex decision boundaries\n",
    "* Not susceptible to curse of dimensionality (in making decisions but is affected when considering time to train)\n",
    "\n",
    "However, we should be wary, as neural nets are typically expensive to train, may be subject to overfitting, and are difficult to understand."
   ]
  },
  {
   "cell_type": "markdown",
   "metadata": {},
   "source": [
    "#### 1A. Creating a Pipeline\n",
    "\n",
    "First, make a classifier and a scaling pipeline for the nerual net. We will make a parameter grid for the neural net, try hidden layers of sizes (30, 40, 50, 60) and activation functions `logistic`, `tanh`, and `relu`. "
   ]
  },
  {
   "cell_type": "code",
   "execution_count": 15,
   "metadata": {},
   "outputs": [],
   "source": [
    "nn_classifier = MLPClassifier()\n",
    "nn_pipe = Pipeline(steps = [('scaler', StandardScaler()), ('NN', nn_classifier)])\n",
    "\n",
    "nn_param_grid = {\n",
    "    'NN__hidden_layer_sizes': [(30,), (40,), (50,), (60,)],\n",
    "    'NN__activation' : ['logistic', 'tanh', 'relu']\n",
    "}\n",
    "\n",
    "inner_nn = GridSearchCV(nn_pipe, nn_param_grid, cv = 5)"
   ]
  },
  {
   "cell_type": "markdown",
   "metadata": {},
   "source": [
    "#### 1B. Cross Validation\n",
    "Put the GridSearchCV inside a `cross_val_score` with `cv = 5`. This will tell us the accuracy of the process. "
   ]
  },
  {
   "cell_type": "code",
   "execution_count": 16,
   "metadata": {},
   "outputs": [],
   "source": [
    "outer_nn_score = cross_val_score(inner_nn, all_images, all_labels, cv = 5)"
   ]
  },
  {
   "cell_type": "code",
   "execution_count": 17,
   "metadata": {},
   "outputs": [
    {
     "name": "stdout",
     "output_type": "stream",
     "text": [
      "Accuracy for Neural Net:  0.9503796091926281\n"
     ]
    }
   ],
   "source": [
    "print(\"Accuracy for Neural Net: \", sum(outer_nn_score) / len(outer_nn_score))"
   ]
  },
  {
   "cell_type": "markdown",
   "metadata": {},
   "source": [
    "#### 1C. Final Model\n",
    "\n",
    "Since the average `cross_val_score` was quite good (0.95), we can go ahead and train a final model by fitting the model with all the images and data. "
   ]
  },
  {
   "cell_type": "code",
   "execution_count": 23,
   "metadata": {},
   "outputs": [
    {
     "data": {
      "text/plain": [
       "GridSearchCV(cv=5,\n",
       "             estimator=Pipeline(steps=[('scaler', StandardScaler()),\n",
       "                                       ('NN', MLPClassifier())]),\n",
       "             param_grid={'NN__activation': ['logistic', 'tanh', 'relu'],\n",
       "                         'NN__hidden_layer_sizes': [(30,), (40,), (50,),\n",
       "                                                    (60,)]})"
      ]
     },
     "execution_count": 23,
     "metadata": {},
     "output_type": "execute_result"
    }
   ],
   "source": [
    "nn_final_model = GridSearchCV(nn_pipe, nn_param_grid, cv = 5)\n",
    "nn_final_model.fit(all_images, all_labels)"
   ]
  },
  {
   "cell_type": "code",
   "execution_count": 28,
   "metadata": {},
   "outputs": [],
   "source": [
    "filename = 'final_nn_model.sav'\n",
    "pickle.dump(nn_final_model, open(filename, 'wb'))"
   ]
  },
  {
   "cell_type": "markdown",
   "metadata": {},
   "source": [
    "### Step 2: Testing Model on Unseen Data\n",
    "\n",
    "Load the final model. Again, we will test how good the final model is on some kind of holdout set.\n",
    "\n",
    "We can evaluate its effective accuracy through:\n",
    "* Confusion Matrix\n",
    "* F-Score\n",
    "* General Accuracy"
   ]
  },
  {
   "cell_type": "code",
   "execution_count": 35,
   "metadata": {},
   "outputs": [
    {
     "name": "stdout",
     "output_type": "stream",
     "text": [
      "Best params:  {'NN__activation': 'relu', 'NN__hidden_layer_sizes': (40,)}\n",
      "Best score:  0.9515076019157581\n"
     ]
    }
   ],
   "source": [
    "filename = 'final_nn_model.sav'\n",
    "loaded_model = pickle.load(open(filename, 'rb'))\n",
    "print(\"Best params: \", loaded_model.best_params_)\n",
    "print(\"Best score: \", loaded_model.best_score_)"
   ]
  },
  {
   "cell_type": "markdown",
   "metadata": {},
   "source": [
    "#### 2A. Confusion Matrix\n",
    "Flatten the holdout images and display the Confusion Matrix given the holdout labels and predictions."
   ]
  },
  {
   "cell_type": "code",
   "execution_count": 36,
   "metadata": {},
   "outputs": [
    {
     "data": {
      "text/plain": [
       "<sklearn.metrics._plot.confusion_matrix.ConfusionMatrixDisplay at 0x7f9bff8be0a0>"
      ]
     },
     "execution_count": 36,
     "metadata": {},
     "output_type": "execute_result"
    },
    {
     "data": {
      "image/png": "[encoded data removed]",
      "text/plain": [
       "<Figure size 640x480 with 2 Axes>"
      ]
     },
     "metadata": {},
     "output_type": "display_data"
    }
   ],
   "source": [
    "predictions = loaded_model.predict(holdout_images)\n",
    "ConfusionMatrixDisplay.from_predictions(holdout_labels, predictions)"
   ]
  },
  {
   "cell_type": "markdown",
   "metadata": {},
   "source": [
    "#### 2B. F-Score\n",
    "Display the F-Score of the model"
   ]
  },
  {
   "cell_type": "code",
   "execution_count": 37,
   "metadata": {},
   "outputs": [
    {
     "name": "stdout",
     "output_type": "stream",
     "text": [
      "F score:  0.9204768059306229\n"
     ]
    }
   ],
   "source": [
    "f_score = f1_score(holdout_labels, predictions, average = 'weighted')\n",
    "print(\"F-score: \", f_score)"
   ]
  },
  {
   "cell_type": "markdown",
   "metadata": {},
   "source": [
    "#### 2C. General Accuracy\n",
    "Display the percentage of records that the model predicts correctly."
   ]
  },
  {
   "cell_type": "code",
   "execution_count": 31,
   "metadata": {},
   "outputs": [
    {
     "name": "stdout",
     "output_type": "stream",
     "text": [
      "Total accuracy on different dataset:  92.11356466876973 %\n"
     ]
    }
   ],
   "source": [
    "nn_predictions = nn_final_model.predict(holdout_images)\n",
    "nn_accuracy = accuracy_score(holdout_labels, nn_predictions)\n",
    "print(\"Total accuracy on different dataset: \", nn_accuracy * 100, \"%\")"
   ]
  },
  {
   "cell_type": "markdown",
   "metadata": {},
   "source": [
    "### Conclusion for Neural Nets\n",
    "\n",
    "Neural Nets yielded excellent results for classifying patients of all classes. The general accuracy was 92.11%, and the F-score was comparatively high, at 0.92. This means that there were relatively few misclassifications for both false-positives and false-negatives. This can be seen in the confusion matrix, where a significant amount of predictions aligned with the true labels along the diagonal. In cases with Covid-19, only 3/137 (2.2%) of cases were misclassified. The results are comparably good for healthy patients with 9/90 (10%) and viral pneumonia patients with 13/90 (14.4%) of misclassifications.\n",
    "\n",
    "While the model took around 4 hours to train (roughly the same amount of time as the SVM classifier) the neural net had better results. In medical cases where false negatives are dangerous, this neural net model is more reliable than the SVM and decision tree classifier models."
   ]
  },
  {
   "cell_type": "markdown",
   "metadata": {},
   "source": [
    "## Model: Regression Tree\n",
    "\n",
    "Regression Trees are just like Decision Trees, except we swap out the impurity metric to something that makes sense for a continuous target variable (like SSE), and we make our predictions based on an average of y-values of datapoints in each leaf. We will use this because:\n",
    "\n",
    "* They are fast to train\n",
    "* Since a probability is given, perhaps we can see which classifications give our model trouble!"
   ]
  },
  {
   "cell_type": "code",
   "execution_count": 16,
   "metadata": {},
   "outputs": [],
   "source": [
    "def encode_labels(labels):\n",
    "    encoded_labels = []\n",
    "    for label in labels:\n",
    "        if label == 'Covid':\n",
    "            encoded_labels.append([1, 0, 0])\n",
    "        elif label == 'Normal':\n",
    "            encoded_labels.append([0, 1, 0])\n",
    "        else:\n",
    "            encoded_labels.append([0, 0, 1])\n",
    "    return encoded_labels"
   ]
  },
  {
   "cell_type": "markdown",
   "metadata": {},
   "source": [
    "#### 1A. Creating a Parameter Grid\n",
    "\n",
    "Create a pipeline to make the inner cross-validation loop. Use a `max_depth` from 5-20 in increments of 5, `min_samples_leaf` from 5-20 in increments of 5, and error `criterion`: `square_error`, `friedman_mse`, and `absolute_error`."
   ]
  },
  {
   "cell_type": "code",
   "execution_count": 18,
   "metadata": {},
   "outputs": [],
   "source": [
    "rtc = DecisionTreeRegressor()\n",
    "\n",
    "regression_tree_params = {'max_depth': list(range(5, 21, 5)), \n",
    "                          'min_samples_leaf': list(range(5, 21, 5)), \n",
    "                          'max_features': list(range(5, 16, 5))}\n",
    "inner_rtc = GridSearchCV(rtc, regression_tree_params, cv = 5)\n",
    "\n",
    "encoded_labels = encode_labels(all_labels)"
   ]
  },
  {
   "cell_type": "markdown",
   "metadata": {},
   "source": [
    "#### 1B. Cross-Validation Score\n",
    "Put the `GridSearchCV` into a `cross_val_score` with a `cv = 5` to validate the modeling process."
   ]
  },
  {
   "cell_type": "code",
   "execution_count": 19,
   "metadata": {},
   "outputs": [
    {
     "name": "stdout",
     "output_type": "stream",
     "text": [
      "Accuracy for Regression Tree:  0.5617482402210817\n"
     ]
    }
   ],
   "source": [
    "outer_rtc_score = cross_val_score(inner_rtc, all_images, encoded_labels, cv = 5)\n",
    "print(\"Accuracy for Regression Tree: \", sum(outer_rtc_score) / len(outer_rtc_score))"
   ]
  },
  {
   "cell_type": "markdown",
   "metadata": {},
   "source": [
    "#### 1C. Final Model\n",
    "\n",
    "Fit the `GridSearchCV` object with all of the features and labels. Save this final model in `final_rtc_model.sav`"
   ]
  },
  {
   "cell_type": "code",
   "execution_count": 20,
   "metadata": {},
   "outputs": [],
   "source": [
    "rtc_final_model = GridSearchCV(rtc, regression_tree_params, cv = 5)\n",
    "rtc_final_model.fit(all_images, encoded_labels)\n",
    "filename = 'final_rtc_model.sav'\n",
    "pickle.dump(rtc_final_model, open(filename, 'wb'))"
   ]
  },
  {
   "cell_type": "markdown",
   "metadata": {},
   "source": [
    "### Step 2: Testing Model on Unseen Data\n",
    "\n",
    "Load the final model. Again, we will test how good the final model is on some kind of holdout set.\n",
    "\n",
    "We can evaluate its effective accuracy through:\n",
    "* Confusion Matrix\n",
    "* F-Score\n",
    "* General Accuracy"
   ]
  },
  {
   "cell_type": "code",
   "execution_count": 17,
   "metadata": {},
   "outputs": [
    {
     "name": "stdout",
     "output_type": "stream",
     "text": [
      "Best params:  {'max_depth': 10, 'max_features': 10, 'min_samples_leaf': 10}\n",
      "Best score:  0.5815122044745389\n"
     ]
    }
   ],
   "source": [
    "# Load the final rtc model\n",
    "\n",
    "filename = 'final_rtc_model.sav'\n",
    "loaded_model = pickle.load(open(filename, 'rb'))\n",
    "print(\"Best params: \", loaded_model.best_params_)\n",
    "print(\"Best score: \", loaded_model.best_score_)"
   ]
  },
  {
   "cell_type": "markdown",
   "metadata": {},
   "source": [
    "Since the output for the regression tree is given in array form, we need to convert the labels back to strings"
   ]
  },
  {
   "cell_type": "code",
   "execution_count": 34,
   "metadata": {},
   "outputs": [],
   "source": [
    "def encoded_to_labels(encoded_labels):\n",
    "    labels = []\n",
    "    for el in encoded_labels:\n",
    "        if np.array_equal(el, [1, 0, 0]):\n",
    "            labels.append(\"Covid\")\n",
    "        elif np.array_equal(el, [0, 1, 0]):\n",
    "            labels.append(\"Normal\")\n",
    "        else:\n",
    "            labels.append(\"Pneumonia-Viral\")\n",
    "    return labels\n",
    "\n",
    "encoded_predictions = loaded_model.predict(holdout_images)\n",
    "predictions = encoded_to_labels(encoded_predictions)\n",
    "assert len(predictions) == len(holdout_labels)"
   ]
  },
  {
   "cell_type": "markdown",
   "metadata": {},
   "source": [
    "#### 2A. Confusion Matrix\n",
    "Display the Confusion Matrix given the holdout labels and predictions."
   ]
  },
  {
   "cell_type": "code",
   "execution_count": 35,
   "metadata": {},
   "outputs": [
    {
     "data": {
      "text/plain": [
       "<sklearn.metrics._plot.confusion_matrix.ConfusionMatrixDisplay at 0x7f8fce8f41c0>"
      ]
     },
     "execution_count": 35,
     "metadata": {},
     "output_type": "execute_result"
    },
    {
     "data": {
      "image/png": "[encoded data removed]",
      "text/plain": [
       "<Figure size 640x480 with 2 Axes>"
      ]
     },
     "metadata": {},
     "output_type": "display_data"
    }
   ],
   "source": [
    "ConfusionMatrixDisplay.from_predictions(holdout_labels, predictions)"
   ]
  },
  {
   "cell_type": "markdown",
   "metadata": {},
   "source": [
    "#### 2B. F-Score\n",
    "Display the F-Score of the model"
   ]
  },
  {
   "cell_type": "code",
   "execution_count": 31,
   "metadata": {},
   "outputs": [
    {
     "name": "stdout",
     "output_type": "stream",
     "text": [
      "F-score:  0.5681196759158\n"
     ]
    }
   ],
   "source": [
    "f_score = f1_score(holdout_labels, predictions, average = 'weighted')\n",
    "print(\"F-score: \", f_score)"
   ]
  },
  {
   "cell_type": "markdown",
   "metadata": {},
   "source": [
    "#### 2C. General Accuracy\n",
    "Display the percentage of records that the model predicts correctly."
   ]
  },
  {
   "cell_type": "code",
   "execution_count": 30,
   "metadata": {},
   "outputs": [
    {
     "name": "stdout",
     "output_type": "stream",
     "text": [
      "Total accuracy on different dataset:  58.359621451104104 %\n"
     ]
    }
   ],
   "source": [
    "rtc_accuracy = accuracy_score(holdout_labels, predictions)\n",
    "print(\"Total accuracy on different dataset: \", rtc_accuracy * 100, \"%\")"
   ]
  },
  {
   "cell_type": "markdown",
   "metadata": {},
   "source": [
    "### Conclusion for Regression Tree\n",
    "\n",
    "The regression tree yielded disappointing results. Its acuracy and F-score were 58.36% and 0.568 respectively. While this is certainly better than guessing for all three classes, which would have an accuracy of about 33%, this is quite poor compared to the other models. An interesting phenomena about the confusion matrix is that the model predicted viral pneumonia for 63% of the records despite only being about a third of the records. This is reflected in the F-score, where the recall can be good (is good at saying positive for viral pneumonia) but has poor precision. \n",
    "\n",
    "Overall, even though this model was fast to train, if we wanted speed, we could use the decision tree with better results. If we wanted more accuracy, we could use KNN or Neural Nets."
   ]
  },
  {
   "cell_type": "code",
   "execution_count": null,
   "metadata": {},
   "outputs": [],
   "source": []
  }
 ],
 "metadata": {
  "colab": {
   "provenance": [],
   "toc_visible": true
  },
  "kernelspec": {
   "display_name": "Python 3 (ipykernel)",
   "language": "python",
   "name": "python3"
  },
  "language_info": {
   "codemirror_mode": {
    "name": "ipython",
    "version": 3
   },
   "file_extension": ".py",
   "mimetype": "text/x-python",
   "name": "python",
   "nbconvert_exporter": "python",
   "pygments_lexer": "ipython3",
   "version": "3.9.13"
  }
 },
 "nbformat": 4,
 "nbformat_minor": 1
}
